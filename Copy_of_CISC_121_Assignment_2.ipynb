{
  "cells": [
    {
      "cell_type": "markdown",
      "metadata": {
        "id": "view-in-github",
        "colab_type": "text"
      },
      "source": [
        "<a href=\"https://colab.research.google.com/github/tusksuccessfullydunked/Copy_of_Assignement_1.ipynb/blob/main/Copy_of_CISC_121_Assignment_2.ipynb\" target=\"_parent\"><img src=\"https://colab.research.google.com/assets/colab-badge.svg\" alt=\"Open In Colab\"/></a>"
      ]
    },
    {
      "cell_type": "markdown",
      "metadata": {
        "id": "MRScbkLTN3Mc"
      },
      "source": [
        "# **CISC 121 - Section 001 – Assignment 2**\n",
        "*Please copy this notebook to your own drive (File -> Save a copy in Drive) and work from there.*"
      ]
    },
    {
      "cell_type": "markdown",
      "metadata": {
        "id": "87bcdc76"
      },
      "source": [
        "## Part 1\n",
        "### Solve all the 3 problems folloowing the template\n",
        "\n",
        "1. **Sum of Two Integers** — <https://leetcode.com/problems/sum-of-two-integers>\n",
        "2. **Convert Date to Binary** — <https://leetcode.com/problems/convert-date-to-binary>\n",
        "3. **Number of 1 Bits** — <https://leetcode.com/problems/number-of-1-bits>"
      ]
    },
    {
      "cell_type": "markdown",
      "metadata": {
        "id": "f960a31d"
      },
      "source": [
        "## Part 2\n",
        "### Solve 2 of the 3 problems from the followings following the given template\n",
        "\n",
        "1. **Reverse Integer** — <https://leetcode.com/problems/reverse-integer>\n",
        "2. **Reverse String** — <https://leetcode.com/problems/reverse-string>\n",
        "3. **Reverse Pairs** — <https://leetcode.com/problems/reverse-pairs>\n",
        "\n",
        "### Note: the problems are ordered by difficulty."
      ]
    },
    {
      "cell_type": "markdown",
      "metadata": {
        "id": "KGKqcY70N3Md"
      },
      "source": [
        "[link text](https://)\n",
        "\n",
        "1. Your Name: bill tran\n",
        "2. Section: 001\n",
        "3. ID: 20553838\n",
        "4. Github or Colab link of this notebook:\n",
        "5. Links to Chats:\n"
      ]
    },
    {
      "cell_type": "markdown",
      "metadata": {
        "id": "creP6zY2Q96V"
      },
      "source": [
        "\n",
        "\n",
        "---\n",
        "\n"
      ]
    },
    {
      "cell_type": "markdown",
      "metadata": {
        "id": "rAwLuBzFZxf3"
      },
      "source": [
        "#  Problem 1 (DSA)\n",
        "\n",
        "\n"
      ]
    },
    {
      "cell_type": "markdown",
      "metadata": {
        "id": "r9EKMWjKIQP3"
      },
      "source": [
        "## 1. Understanding & Breakdown\n",
        "\n",
        "**AI Level 1** is allowed to understand the concept, but you need to sketch the problem down by yourself (Refer to the Syllabus for more details about AI use levels). **Must Provide AI Disclosures**\n",
        "\n",
        "\n",
        "### **Follow the below instruction according to the corresponding problem type**\n",
        "\n",
        "### **For both Parts (Both DSA & Recursion problems)**\n",
        "\n",
        "#### _Discuss the problem, using the pillars of Computation: Problem Decomposition, Pattern Recognition, Abstraction, and Algortihmic Thinking. For algorithmic thinking explain the inputs/outputs, constraints, and  draw the flowchart using digital or real pen-paper (For the flow chart only). Insert the image below._\n",
        "\n",
        "\n",
        "### **For Part 1 (Basic Data Structures and Algorithms Problems)**\n",
        "\n",
        "- For each, discuss:\n",
        "    - How are you dealing with variable datatypes?\n",
        "    - Which types of operations are being used and what for?\n",
        "    - Which Data collections (structures) are being used, and why? (comapre to others, e.g. lists, dictionaries, sets, tuples, etc.)\n",
        "    \n",
        "- Compare to the other two problems: which ideas generalize? where do they differ?\n",
        "    - Use abstraction and pattern recognition to find similarities\n",
        "    - Use problem decomposition and algortihmic tinking to identify differnces in term so the the solution\n",
        "\n",
        "\n",
        "### **For Part 2 (Recursion Problems)**\n",
        "\n",
        "- For each, discuss:\n",
        "    - What are the subproblems the recusrive function should solve?\n",
        "    - What the base case and recursive step should do?\n",
        "    - How the call stack will organize the recursive calls?\n",
        "    - Whether to use head, tail, parameterized, and/or functional recursion, and why?\n",
        "    - How are solutions to the subproblems to be combined?\n",
        "    \n",
        "- Compare to the other recursive problems  (similarities/differences)\n",
        "- Compare to an iterative solutions (e.g., how would a loop-based version differ?)\n",
        "- What needs to be changed for the recursive solution to become head/tail/parameterized/functional recursion\n",
        "\n",
        "\n",
        "\n",
        "\n",
        "\n",
        "**Your effort is more important than the accuracy for this section**\n",
        "\n",
        "Use the following markdown to provide your answer"
      ]
    },
    {
      "cell_type": "markdown",
      "metadata": {
        "id": "aUHzVrY4cTX0"
      },
      "source": [
        "## 2. Peer Review & Draft Code\n",
        "\n",
        "**Review Guidance:**  \n",
        "\n",
        "Visit the **\"Solutions\"** tab on LeetCode (the provided link above) for the selected problem and review at least one top-rated solution. You may also search for relevant discussions or Q&A threads on **Stack Overflow** or other forums to understand how others approached the problem.\n",
        "\n",
        "Then, write your own version based on what you understood. The goal is not to copy but to apply what you learned. Always include links to the resources you reviewed.\n",
        "\n",
        "---\n"
      ]
    },
    {
      "cell_type": "code",
      "execution_count": null,
      "metadata": {
        "id": "NPk65D2zciQV"
      },
      "outputs": [],
      "source": [
        "# Your draft code here (does not need to be fully correct)"
      ]
    },
    {
      "cell_type": "markdown",
      "metadata": {
        "id": "8R0ItLfmRKxp"
      },
      "source": [
        "---\n"
      ]
    },
    {
      "cell_type": "markdown",
      "metadata": {
        "id": "Om2fMRWLceyo"
      },
      "source": [
        "## 3. Final Correct Code\n",
        "\n",
        "_This version must pass all required test cases and handle edge cases correctly. Please provide screenshots from Leetcode_\n",
        "\n",
        "At this stage, you may:\n",
        "- Review solutions using AI tools (e.g., ChatGPT, GitHub Copilot) to add ***comments*** and error handeling, refine, improve, and if there are any, fix errors.\n",
        "    -   Tip: Use PROMPT and CoT methods\n",
        "- Refactor your draft to ensure accuracy, completeness, follow the Code Review checklist.\n",
        "\n",
        "### Don't forget to add comments!\n",
        "\n",
        " **AI Level 4 is allowed**, but you **must include a disclaimer** that clearly states what tools you used, how you used them, and for which part of the code.\n",
        "\n",
        "--------------"
      ]
    },
    {
      "cell_type": "code",
      "execution_count": null,
      "metadata": {
        "id": "CukQ_t3xcuDV"
      },
      "outputs": [],
      "source": [
        "# Final working solution\n",
        "# [AI Disclaimer example: Used ChatGPT with prompt “How to handle recursion base case” only for concept]\n"
      ]
    },
    {
      "cell_type": "markdown",
      "metadata": {
        "id": "n-a6rKrlUyQP"
      },
      "source": [
        "Add the screenshot of output for all the test cases from your working solutions."
      ]
    },
    {
      "cell_type": "markdown",
      "metadata": {
        "id": "CSVCLsPgROHs"
      },
      "source": [
        "---"
      ]
    },
    {
      "cell_type": "markdown",
      "metadata": {
        "id": "fJrDhzvMcxVN"
      },
      "source": [
        "## 4. Review & Fixes\n",
        "\n",
        "_What did you improve, optimize from your draft? 2 fixes with your comments._\n",
        "\n",
        "If there is no imporvments possible, please describe how the final version meets all the Code Review Checklist items\n",
        "\n",
        "-------\n",
        "\n"
      ]
    },
    {
      "cell_type": "code",
      "execution_count": null,
      "metadata": {
        "id": "tzEAjBgfMtod"
      },
      "outputs": [],
      "source": [
        "# Fix 1:\n",
        "\n",
        "# Draft version (e.g., manual and repetitive logic)\n",
        "\n",
        "# Fixed version (better structure, easier to understand, and more functional)\n"
      ]
    },
    {
      "cell_type": "code",
      "execution_count": null,
      "metadata": {
        "id": "ElfXHAqFMzQT"
      },
      "outputs": [],
      "source": [
        "# Fix 2:\n",
        "\n",
        "# Draft version:\n",
        "\n",
        "\n",
        "# Fixed version:\n"
      ]
    },
    {
      "cell_type": "markdown",
      "metadata": {
        "id": "9RoAwjXsRPvQ"
      },
      "source": [
        "---"
      ]
    },
    {
      "cell_type": "markdown",
      "metadata": {
        "id": "QfK-i2ITc4MU"
      },
      "source": [
        "\n",
        "## 5. Reflection on Your Contribution\n",
        "_Where did AI or Other's code helped or fail to help? What specific logic or debugging did you contribute yourself?_\n",
        "\n",
        "## Example\n",
        "1. I used ChatGPT (Level 4) to help identify an edge case where my draft code failed when the input string started with a closing bracket. I also used ChatGPT to help structure the final loop and mapping dictionary, but verified all logic myself by tracing the code.\n",
        "\n",
        "2.  I used ChatGPT to help write the loop. But the code had an indentation error after the `if` block, which caused it to fail. I fixed the spacing and made sure the code runs correctly.\n",
        "\n",
        "3. I used opensource code from Github. I found and fixed a logic bug where they used if s[i] == '(' or ')', which always returned True. I corrected it to properly check both conditions.\n"
      ]
    },
    {
      "cell_type": "markdown",
      "metadata": {
        "id": "AxxCiuXlBfSj"
      },
      "source": [
        "## Your answer:\n",
        "\n",
        "------"
      ]
    },
    {
      "cell_type": "markdown",
      "metadata": {
        "id": "xJk7l_CmRSQ9"
      },
      "source": [
        "->\n",
        "\n"
      ]
    },
    {
      "cell_type": "markdown",
      "metadata": {
        "id": "w2X7eha_N3Mg"
      },
      "source": [
        "-----------"
      ]
    },
    {
      "cell_type": "markdown",
      "metadata": {
        "id": "USwRg1coc-BO"
      },
      "source": [
        "#  Repeat this template for Problems 2–5\n",
        "You may copy-paste the above section 4 more times or duplicate cells in your notebook environment.\n",
        "\n",
        "Remember:\n",
        "Proper attribution  \n",
        "No copy-pasting from AI or others\n",
        "\n",
        "--------\n",
        "\n",
        "\n"
      ]
    },
    {
      "cell_type": "markdown",
      "source": [
        "# problem 1"
      ],
      "metadata": {
        "id": "ch90qgb4WMR9"
      }
    },
    {
      "cell_type": "markdown",
      "source": [
        "part 1\n",
        "\n",
        "Problem Decomposition:The main goal is get intergers and return the sum of them without using + or. So we have to somehow store the value of those two intergers different, and than add them up. maybe we could make a list the len of the intergers and add them up.\n",
        "Pattern Recognition: We can use for loops with counters in them so that we can add a value to a index for every value in the intergers\n",
        "Abstraction: Use for loops to count the amount of numbers in the intergers and store that value in a list in the number of indices\n",
        "Algortihmic Thinking: The inouts are the two intergers and the output is the sum of the two intergers. The consraints is that we can't use + or -.  \n",
        "\n",
        "the flowmap https://docs.google.com/document/d/1j_1Aflvd6oZO55Nwh6HAK9NxphraqPoeUv6G7Xj72RY/edit?usp=sharing\n",
        "\n",
        "How are you dealing with variable datatypes?\n",
        "\n",
        "well I'm not really change them, I just use the values of the intergers to check how many index I need to make in my list\n",
        "\n",
        "Which types of operations are being used and what for?\n",
        "\n",
        "I'm using the greater than operataions in the my while loop to check when to stop\n",
        "\n",
        "Which Data collections (structures) are being used, and why? (comapre to others, e.g. lists, dictionaries, sets, tuples, etc.)\n",
        "\n",
        "I use lists in this problem because I can use a loop to loop x amount of times and add a index for every loop.\n",
        "\n",
        "I did this problem without using binary unlike the other two problems, though the ideas of the while and for loops are simlar, just trying to go through every single digit individually."
      ],
      "metadata": {
        "id": "PSovdAcLWO4R"
      }
    },
    {
      "cell_type": "code",
      "source": [
        "part 2"
      ],
      "metadata": {
        "id": "UCN6wJTmgBvn"
      },
      "execution_count": null,
      "outputs": []
    },
    {
      "cell_type": "code",
      "source": [
        "class Solution(object):\n",
        "    def getSum(self, a, b):\n",
        "        \"\"\"\n",
        "        :type a: int\n",
        "        :type b: int\n",
        "        :rtype: int\n",
        "        \"\"\"\n",
        "        n = a\n",
        "        x = 0\n",
        "        total =[]\n",
        "        while n > a:\n",
        "            total[x] = x\n",
        "            n = n-1\n",
        "            x = x+1\n",
        "        m = b\n",
        "        while m>b:\n",
        "            total[x] = x\n",
        "            m = m-1\n",
        "            x = x+1\n",
        "        return len(total)"
      ],
      "metadata": {
        "id": "ndhTpNJihKoY"
      },
      "execution_count": null,
      "outputs": []
    },
    {
      "cell_type": "markdown",
      "source": [
        "part 3"
      ],
      "metadata": {
        "id": "a3hedXFChObA"
      }
    },
    {
      "cell_type": "code",
      "source": [
        "class Solution(object):\n",
        "    def getSum(self, a, b):\n",
        "        \"\"\"\n",
        "        :type a: int\n",
        "        :type b: int\n",
        "        :rtype: int\n",
        "        \"\"\"\n",
        "        n = a\n",
        "        x = 0\n",
        "        total =[]\n",
        "        while n > 0:\n",
        "            total.append(x)\n",
        "            n = n-1\n",
        "            x = x+1\n",
        "        m = b\n",
        "        while m>0:\n",
        "            total.append(x)\n",
        "            m = m-1\n",
        "            x = x+1\n",
        "        return len(total)"
      ],
      "metadata": {
        "id": "ZD1jomPehQ4Q"
      },
      "execution_count": null,
      "outputs": []
    },
    {
      "cell_type": "markdown",
      "source": [
        "part 4"
      ],
      "metadata": {
        "id": "bZ_2qBLvixiQ"
      }
    },
    {
      "cell_type": "code",
      "source": [
        "class Solution(object):\n",
        "    def getSum(self, a, b):\n",
        "        \"\"\"\n",
        "        :type a: int\n",
        "        :type b: int\n",
        "        :rtype: int\n",
        "        \"\"\"\n",
        "        n = a\n",
        "        x = 0\n",
        "        total =[]\n",
        "        while n > 0:\n",
        "          # I changed the a to 0 because at first it didn't mean sense, I was checking if n was greater than a, but I set them to the same thing, so the while loop just didnt run\n",
        "            total.append(x)\n",
        "            # first of I change this to append because the other one was getting a error\n",
        "            n = n-1\n",
        "            x = x+1\n",
        "        m = b\n",
        "        while m>0:\n",
        "          # same mistake here\n",
        "            total.append(x)\n",
        "            m = m-1\n",
        "            x = x+1\n",
        "        return len(total)"
      ],
      "metadata": {
        "id": "eSLPKQFCiyd_"
      },
      "execution_count": null,
      "outputs": []
    },
    {
      "cell_type": "markdown",
      "source": [
        "part 5\n",
        "\n",
        "I asked google how to use len functions, at first I thought it was like total.len(), but I then got a error, so I googled how to use it properly and it said like len(total) was the right way to use it."
      ],
      "metadata": {
        "id": "tgxIJBbBjQgi"
      }
    },
    {
      "cell_type": "markdown",
      "source": [
        "# Problems 2 (DSA)\n",
        "----------"
      ],
      "metadata": {
        "id": "RVrlqim8SoDS"
      }
    },
    {
      "cell_type": "markdown",
      "source": [
        "---> part 1\n",
        "\n",
        "Problem Decomposition: So we need to turn the numbers into binray, but we also have consider the position of the numbers before we turn them in binary.\n",
        "\n",
        "Pattern Recognition: Since the date will always have the year and the year will have 4 number, and the month will have 2 numbers, same with the day, meaning the year, month and day will always be in the same spot. So we can use slicing to always get the year, month and day consisently.\n",
        "\n",
        "Abstraction: The numbers itself matters(exp.2002) and the dashes(-) don't, so we need to ingore the dashes. We also need to correctly slice the date into the right sections. Also need to convert the intergers into binary. And returning it in the right format\n",
        "\n",
        "Algortihmic Thinking:https://docs.google.com/document/d/1j_1Aflvd6oZO55Nwh6HAK9NxphraqPoeUv6G7Xj72RY/edit?usp=sharing\n",
        "\n",
        "How are you dealing with variable datatypes?\n",
        "\n",
        "They gave me the date as a string, but since the bin() function doesnt work with strings, I had to cast it as a interger first before using the bin().\n",
        "\n",
        "Which types of operations are being used and what for?\n",
        "\n",
        "I'm using the slicing opertaions here to get certain parts of the whole date.\n",
        "\n",
        "Which Data collections (structures) are being used, and why? (comapre to others, e.g. lists, dictionaries, sets, tuples, etc\n",
        "\n",
        "well I'm storing the date in varibles so that I can call upon in the return part.\n",
        "\n",
        "I used a lot more slicing in this problem, besides the thrid problem where I had to remove the first two letters, I didn't have to use it. I also didn't have to use a loop in this problem either, because there were no need for it."
      ],
      "metadata": {
        "id": "6P_AM1xgTTt0"
      }
    },
    {
      "cell_type": "markdown",
      "source": [
        "part 2"
      ],
      "metadata": {
        "id": "Bj2fXWs_VrvK"
      }
    },
    {
      "cell_type": "code",
      "source": [
        "class Solution(object):\n",
        "    def convertDateToBinary(self, date):\n",
        "        \"\"\"\n",
        "        :type date: str\n",
        "        :rtype: str\n",
        "        \"\"\"\n",
        "        year = date[0:3]\n",
        "        month = date[5:6]\n",
        "        day = date[8:-1]\n",
        "\n",
        "        return bin(year) + \"-\" + bin(month) + \"-\" + bin(day)"
      ],
      "metadata": {
        "id": "RGqG5FcfVtCz"
      },
      "execution_count": null,
      "outputs": []
    },
    {
      "cell_type": "markdown",
      "source": [
        "part 3"
      ],
      "metadata": {
        "id": "XL-RoaT7VuBu"
      }
    },
    {
      "cell_type": "code",
      "source": [
        "class Solution(object):\n",
        "    def convertDateToBinary(self, date):\n",
        "        \"\"\"\n",
        "        :type date: str\n",
        "        :rtype: str\n",
        "        \"\"\"\n",
        "        year = int(date[0:4])\n",
        "        month = int(date[5:7])\n",
        "        day = int(date[8:10])\n",
        "\n",
        "        return bin(year)[2:] + \"-\" + bin(month)[2:] + \"-\" + bin(day)[2:]"
      ],
      "metadata": {
        "id": "17lM-kcjVvfp"
      },
      "execution_count": null,
      "outputs": []
    },
    {
      "cell_type": "markdown",
      "source": [
        "part 4"
      ],
      "metadata": {
        "id": "i0miFuZtXKid"
      }
    },
    {
      "cell_type": "code",
      "source": [
        "class Solution(object):\n",
        "    def convertDateToBinary(self, date):\n",
        "        \"\"\"\n",
        "        :type date: str\n",
        "        :rtype: str\n",
        "        \"\"\"\n",
        "        year = int(date[0:4])\n",
        "        month = int(date[5:7])\n",
        "        day = int(date[8:10])\n",
        "        # I messed up the slicing here, I were grabbing the wrong numbers\n",
        "        # I also had to cast these values as intergers to not get a error\n",
        "        return bin(year)[2:] + \"-\" + bin(month)[2:] + \"-\" + bin(day)[2:]\n",
        "        # I had to remove the first to values of each section because the they were including this werid thing in front of them"
      ],
      "metadata": {
        "id": "2Lk0c9ABXMMb"
      },
      "execution_count": null,
      "outputs": []
    },
    {
      "cell_type": "markdown",
      "source": [
        "part 5\n",
        "\n",
        "I had to google if there were a function that turned values into binary and there were. I also had to ask CHATGPT what was wrong with my code because I kept on getting this werid error, but it told me that bin only worked on intergers, so I just had to turn the date sections into intergers values."
      ],
      "metadata": {
        "id": "QBDPRkUDX0DQ"
      }
    },
    {
      "cell_type": "markdown",
      "source": [
        "# Problems 3 (DSA)\n",
        "\n",
        "------"
      ],
      "metadata": {
        "id": "CW2cb3O7S8Pn"
      }
    },
    {
      "cell_type": "markdown",
      "source": [
        "---> part 1\n",
        "Problem Decomposition: So first of all we need to find the binary form of the interger, after that we need to add all the digits(basically just the ones) together. The output will be the sum of all binary digits together.\n",
        "\n",
        "Pattern Recognition: binary is just a bunch of 1 and 0\n",
        "\n",
        "Abstraction: Adding all the digits together and return that sum\n",
        "\n",
        "Algortihmic Thinking:https://docs.google.com/document/d/1j_1Aflvd6oZO55Nwh6HAK9NxphraqPoeUv6G7Xj72RY/edit?usp=sharing\n",
        "\n",
        "How are you dealing with variable datatypes?\n",
        "\n",
        "All of my varibles are intergers, besides when i turn them into bin, which turn it into a string, I have to remove the first 2 because their letters, then turn it back into a interger before I add it to the sum.\n",
        "\n",
        "Which types of operations are being used and what for?\n",
        "\n",
        "I'm using a for loop to loop through every number in the binary number so that I can add them up. I also use the adding operator\n",
        "\n",
        "\n",
        "Which Data collections (structures) are being used, and why? (comapre to others, e.g. lists, dictionaries, sets, tuples, etc.)\n",
        "\n",
        "I just using varible(interger) to store all of the sum before i return the value.\n",
        "\n",
        "I had to use binary in this problem to count all the 0 and 1 in the binary code, which was very different to the other two. The loop was slimar to the first problem where I pretty much just count for both of them."
      ],
      "metadata": {
        "id": "eTxihTQ1TXwn"
      }
    },
    {
      "cell_type": "markdown",
      "source": [
        "part 2"
      ],
      "metadata": {
        "id": "JK5P0_UbDIF7"
      }
    },
    {
      "cell_type": "code",
      "source": [
        "class Solution(object):\n",
        "    def hammingWeight(self, n):\n",
        "        \"\"\"\n",
        "        :type n: int\n",
        "        :rtype: int\n",
        "        \"\"\"\n",
        "        x =  bin(n)\n",
        "\n",
        "        count = 0\n",
        "        for y in x:\n",
        "            count = count + y\n",
        "\n",
        "        return count"
      ],
      "metadata": {
        "id": "6xgDH_CdDJKv"
      },
      "execution_count": null,
      "outputs": []
    },
    {
      "cell_type": "markdown",
      "source": [
        "part 3"
      ],
      "metadata": {
        "id": "QoOrqoAbECN-"
      }
    },
    {
      "cell_type": "code",
      "source": [
        "class Solution(object):\n",
        "    def hammingWeight(self, n):\n",
        "        \"\"\"\n",
        "        :type n: int\n",
        "        :rtype: int\n",
        "        \"\"\"\n",
        "        x =  bin(n)[2:]\n",
        "\n",
        "        count = 0\n",
        "        for y in x:\n",
        "            count = count + int(y)\n",
        "\n",
        "        return count"
      ],
      "metadata": {
        "id": "FVSXHiXWED2l"
      },
      "execution_count": null,
      "outputs": []
    },
    {
      "cell_type": "markdown",
      "source": [
        "part 4"
      ],
      "metadata": {
        "id": "eR6MbwyGEyPQ"
      }
    },
    {
      "cell_type": "code",
      "source": [
        "class Solution(object):\n",
        "    def hammingWeight(self, n):\n",
        "        \"\"\"\n",
        "        :type n: int\n",
        "        :rtype: int\n",
        "        \"\"\"\n",
        "        x =  bin(n)[2:]\n",
        "        # I have to remove the first 2 indices of this string because their letters\n",
        "        count = 0\n",
        "        for y in x:\n",
        "            count = count + int(y)\n",
        "        # I have to turn the y value back into intergers\n",
        "        return count"
      ],
      "metadata": {
        "id": "RmkP2HusEzYO"
      },
      "execution_count": null,
      "outputs": []
    },
    {
      "cell_type": "markdown",
      "source": [
        "part 5\n",
        "\n",
        "I had to ask CHATGPT what was wrong with my code because I was getting an error on this line (count = count + y), and I found out that it's because it's still a string and I need to turn it back into a interger before I add it to the count. When you turn something into the bin() function, it returns a string."
      ],
      "metadata": {
        "id": "t_odeW4zFUdY"
      }
    },
    {
      "cell_type": "markdown",
      "source": [
        "# Problems 4 (Recursion)\n",
        "--------"
      ],
      "metadata": {
        "id": "7tQQGx41S-Le"
      }
    },
    {
      "cell_type": "markdown",
      "source": [
        "---> part 1\n",
        "\n",
        "Problem Decomposition: Exract digits from the numbers, then revserse them. And then after that you will need to handle the negitive sign if it has one, then check if it is outisde the range.\n",
        "\n",
        "Pattern Recognition: using the modd function to always the last digit, when you mod anything by 10, as long as its a positive number, you will always get the last digit.\n",
        "\n",
        "Abstraction: In this problem, the main thing we care about is the sign, weather its a negitive or not, the digits order, and weather it's outside the range or not.\n",
        "\n",
        "Algortihmic Thinking:https://docs.google.com/document/d/1j_1Aflvd6oZO55Nwh6HAK9NxphraqPoeUv6G7Xj72RY/edit?usp=sharing\n",
        "\n",
        "\n",
        "What are the subproblems the recusrive function should solve?\n",
        "reserving all the digits besides the last one. After that putting the last one in the right spot\n",
        "\n",
        "What the base case and recursive step should do?\n",
        "the base case is when it only has one digit, it should just return itself. The recursive step should remove the last digit of the number and then call itself on the remaining number.\n",
        "\n",
        "How the call stack will organize the recursive calls?\n",
        "The next stack will be called when the number is smaller than the one before it is reserved.\n",
        "\n",
        "Whether to use head, tail, parameterized, and/or functional recursion, and why?\n",
        "I think head recursion will be good because it call before processing the last digit.\n",
        "\n",
        "How are solutions to the subproblems to be combined?\n",
        "Each step should return a smaller number, and then 10x and adding it to the resvsered number. After fully resvsering it, check for signs and if it's inside the range or not.\n",
        "\n",
        "Compare to the other recursive problems (similarities/differences)\n",
        "Both the recurive problems involves reversing a varible. But one uses strings and the other uses intergers. They both also work towards the solution with each step getting closer.\n",
        "\n",
        "Compare to an iterative solutions (e.g., how would a loop-based version differ?)\n",
        "In my recurive function, I use another function that keeps calling itself until it reaches zero, while in a iterative solution, it will polly just use a while loop.  \n",
        "\n",
        "What needs to be changed for the recursive solution to become head/tail/parameterized/functional recursion\n",
        "in order for this recurision to become a functional recursion, you need to move all the computional and process after the return function or during the return function, so like return res( (x mod), (10**len)) something like that.  "
      ],
      "metadata": {
        "id": "0dJMmBiUS_ol"
      }
    },
    {
      "cell_type": "markdown",
      "source": [
        "------"
      ],
      "metadata": {
        "id": "oiP92F44TffW"
      }
    },
    {
      "cell_type": "markdown",
      "source": [
        "part 2"
      ],
      "metadata": {
        "id": "7A5ueTF3g1sZ"
      }
    },
    {
      "cell_type": "code",
      "source": [
        "class Solution(object):\n",
        "    def reverse(self, x):\n",
        "        \"\"\"\n",
        "        :type x: int\n",
        "        :rtype: int\n",
        "        \"\"\"\n",
        "        if x >= 0:\n",
        "            sign = 1\n",
        "        else:\n",
        "            sign = -1\n",
        "        y = x\n",
        "        def res(num, rever = 0):\n",
        "            if num == 0 :\n",
        "                return rever\n",
        "            lastdig = num% 10\n",
        "            rever = (10*rever) + lastdig\n",
        "            num = num // 10\n",
        "            return res(num, rever)\n",
        "\n",
        "\n",
        "        if (res(x)* sign) > 2**31:\n",
        "            return 0\n",
        "        else:\n",
        "            return res(x)*sign"
      ],
      "metadata": {
        "id": "jKHqXGijg2uj"
      },
      "execution_count": null,
      "outputs": []
    },
    {
      "cell_type": "markdown",
      "source": [
        "part 3"
      ],
      "metadata": {
        "id": "_eVENKRW6EiH"
      }
    },
    {
      "cell_type": "code",
      "source": [
        "class Solution(object):\n",
        "    def reverse(self, x):\n",
        "        \"\"\"\n",
        "        :type x: int\n",
        "        :rtype: int\n",
        "        \"\"\"\n",
        "        if x >= 0:\n",
        "            sign = 1\n",
        "        else:\n",
        "            sign = -1\n",
        "\n",
        "        def res(num, rever=0):\n",
        "            if num == 0:\n",
        "                return rever\n",
        "            lastdig = num % 10\n",
        "            rever = (10 * rever) + lastdig\n",
        "            num = num // 10\n",
        "            return res(num, rever)\n",
        "\n",
        "        reversed_num = res(abs(x)) * sign\n",
        "\n",
        "        if reversed_num < -2**31 or reversed_num > 2**31 - 1:\n",
        "            return 0\n",
        "        return reversed_num"
      ],
      "metadata": {
        "id": "AX2X_zeR6GOZ"
      },
      "execution_count": null,
      "outputs": []
    },
    {
      "cell_type": "markdown",
      "source": [
        "part 4"
      ],
      "metadata": {
        "id": "U6u5d0oG9al0"
      }
    },
    {
      "cell_type": "code",
      "source": [
        "class Solution(object):\n",
        "    def reverse(self, x):\n",
        "        \"\"\"\n",
        "        :type x: int\n",
        "        :rtype: int\n",
        "        \"\"\"\n",
        "        if x >= 0:\n",
        "            sign = 1\n",
        "        else:\n",
        "            sign = -1\n",
        "\n",
        "        def res(num, rever=0):\n",
        "            if num == 0:\n",
        "                return rever\n",
        "            lastdig = num % 10\n",
        "            rever = (10 * rever) + lastdig\n",
        "            num = num // 10\n",
        "            return res(num, rever)\n",
        "\n",
        "        reversed_num = res(abs(x)) * sign\n",
        "        # I had to put get the abs value of x because if I mod a negitve number it would mess things up, exp. -123 mod 10 is like 7, which is not what I want\n",
        "        # also had to use a reversed because before I were getting a memory limit exceeded error message before, so I change this is be more efficient\n",
        "        if reversed_num < -2**31 or reversed_num > 2**31:\n",
        "            return 0\n",
        "        return reversed_num"
      ],
      "metadata": {
        "id": "f-2WjSuR9b64"
      },
      "execution_count": null,
      "outputs": []
    },
    {
      "cell_type": "markdown",
      "source": [
        "part 5\n",
        "\n",
        "I was having a lot of trouble with the memory exceeded error, and my code wasn't running, so I asked CHATGPT why it wasn't running. Because if you mod 10 a number, it will never actually hit 0, so my code would just end up running forever if you entered a negitive number, so I had to put a abs value on the x before I called the res function"
      ],
      "metadata": {
        "id": "PrwYmMdB-Umx"
      }
    },
    {
      "cell_type": "markdown",
      "source": [
        "# Problems 5 (Recusrion)\n",
        "\n",
        "----"
      ],
      "metadata": {
        "id": "rM8MhcrjS_yF"
      }
    },
    {
      "cell_type": "markdown",
      "source": [
        "---> part 1\n",
        "\n",
        "Problem Decomposition: We can swap the first and last letter and only stop in the middle, because if its even, than just swap them and if it odd then just leave it be.\n",
        "\n",
        "Pattern Recognition: swap the outermost letters and move closer to the middle and keep repeating until you reach it.\n",
        "\n",
        "Abstraction: Swapping the letter correctly. Returning the correct reverse string.\n",
        "\n",
        "Algortihmic Thinking: https://docs.google.com/document/d/1j_1Aflvd6oZO55Nwh6HAK9NxphraqPoeUv6G7Xj72RY/edit?usp=sharing\n",
        "\n",
        "What are the subproblems the recusrive function should solve?\n",
        "in each step move the two outside letters and reverse them, move in each step.\n",
        "\n",
        "What the base case and recursive step should do?\n",
        "the base case is when there 0 or 1 letter left to reverse. The recursive step should swap the left and right with each other and then move one letter closer to the middle in the next step.\n",
        "\n",
        "How the call stack will organize the recursive calls?\n",
        "The stack will build as it moves closer to the middle until it hits the base case, then it will return the reverse word  \n",
        "\n",
        "Whether to use head, tail, parameterized, and/or functional recursion, and why?\n",
        "Parameterized recursion, because i'm going to be taking the left and right side and swapping them. Parameterized recursion is when you take more than one parameter, which is what im doing here.\n",
        "\n",
        "How are solutions to the subproblems to be combined?\n",
        "well after the function swaps the left and right, keeps moving to the middle, it should reach the middle and be then would have reverseed the whole string.\n",
        "\n",
        "Compare to the other recursive problems (similarities/differences)\n",
        "The base case from the two problems are different, one happens when left is greater than or equal to the right side, so its could change based on the value. But this one is when num == 0, its always going to be zero.\n",
        "\n",
        "Compare to an iterative solutions (e.g., how would a loop-based version differ?)\n",
        "in my problem, I repeatly call the same function over and over again while changing vaules, in interative solutions, Ill polly just use while or for loops to change the left and right values. In my recurive function the function keep going until, it's done, but in a interative soultion, its all manged by a while loop.\n",
        "\n",
        "What needs to be changed for the recursive solution to become head/tail/parameterized/functional recursion\n",
        "\n",
        "To make this into a head recursion, we would call the recurive step before swapping."
      ],
      "metadata": {
        "id": "huPf_Gy1Th3J"
      }
    },
    {
      "cell_type": "markdown",
      "source": [
        "part 2"
      ],
      "metadata": {
        "id": "Z2sT8zHjTivY"
      }
    },
    {
      "cell_type": "code",
      "source": [
        "class Solution(object):\n",
        "    def reverseString(self, s):\n",
        "        \"\"\"\n",
        "        :type s: List[str]\n",
        "        :rtype: None Do not return anything, modify s in-place instead.\n",
        "        \"\"\"\n",
        "        rightc = len(s)-1\n",
        "        leftc = 0\n",
        "        right = None\n",
        "        left = None\n",
        "        temp = None\n",
        "        def ress(left,right):\n",
        "            if left >= right:\n",
        "                return left+right\n",
        "            temp = left\n",
        "            s[left] = s[right]\n",
        "            s[right] = s[temp]\n",
        "            return ress(left+1,right-1)\n",
        "\n",
        "        return ress(leftc, rightc)"
      ],
      "metadata": {
        "id": "u6NLaNxuThF4"
      },
      "execution_count": null,
      "outputs": []
    },
    {
      "cell_type": "markdown",
      "source": [
        "part 3"
      ],
      "metadata": {
        "id": "xusRyoCKWv39"
      }
    },
    {
      "cell_type": "code",
      "source": [
        "class Solution(object):\n",
        "    def reverseString(self, s):\n",
        "        \"\"\"\n",
        "        :type s: List[str]\n",
        "        :rtype: None Do not return anything, modify s in-place instead.\n",
        "        \"\"\"\n",
        "        rightc = len(s)-1\n",
        "        leftc = 0\n",
        "        right = None\n",
        "        left = None\n",
        "        temp = None\n",
        "        def ress(left,right):\n",
        "            if left >= right:\n",
        "                return left+right\n",
        "            temp = s[left]\n",
        "            s[left] = s[right]\n",
        "            s[right] = temp\n",
        "            return ress(left+1,right-1)\n",
        "\n",
        "        return ress(leftc, rightc)"
      ],
      "metadata": {
        "id": "Zt4UkzT_Wwz6"
      },
      "execution_count": null,
      "outputs": []
    },
    {
      "cell_type": "markdown",
      "source": [
        "part 4"
      ],
      "metadata": {
        "id": "fp6_uI8YlFf0"
      }
    },
    {
      "cell_type": "code",
      "source": [
        "class Solution(object):\n",
        "    def reverseString(self, s):\n",
        "        \"\"\"\n",
        "        :type s: List[str]\n",
        "        :rtype: None Do not return anything, modify s in-place instead.\n",
        "        \"\"\"\n",
        "        rightc = len(s)-1\n",
        "        leftc = 0\n",
        "        right = None\n",
        "        left = None\n",
        "        temp = None\n",
        "        #I also didn't need all of this either, like the left and right = None.\n",
        "        def ress(left,right):\n",
        "            if left >= right:\n",
        "                return left+right\n",
        "            temp = s[left]\n",
        "            s[left] = s[right]\n",
        "            s[right] = temp\n",
        "            #I messed up the temp varible, I already set the temp to the value of the s[left], so I was bascially just setting s[temp] where temp is a value, not a indice, so that didn't make any sense\n",
        "            return ress(left+1,right-1)\n",
        "\n",
        "        return ress(leftc, rightc)"
      ],
      "metadata": {
        "id": "LJUYiqdrlGZG"
      },
      "execution_count": null,
      "outputs": []
    },
    {
      "cell_type": "markdown",
      "source": [
        "part 5\n",
        "\n",
        "I was going over the code wondering what was going wrong and why I was getting an error. I did however asked CHATGPT why i was getting a runtime error on this line s[left] = s[right], it was because the rightc one is too big, because indices start at 0, you have to subtract one from the len is make up for that."
      ],
      "metadata": {
        "id": "_Zn8-n2j-fL2"
      }
    },
    {
      "cell_type": "markdown",
      "metadata": {
        "id": "YR8usq_lVloZ"
      },
      "source": [
        "# **The most important part of writing code is not the code itself, but the thinking that leads to it. Thank You 😀**"
      ]
    }
  ],
  "metadata": {
    "colab": {
      "provenance": [],
      "include_colab_link": true
    },
    "kernelspec": {
      "display_name": "Python 3",
      "name": "python3"
    },
    "language_info": {
      "name": "python"
    },
    "title": "CISC 121 – Assignment 2"
  },
  "nbformat": 4,
  "nbformat_minor": 0
}